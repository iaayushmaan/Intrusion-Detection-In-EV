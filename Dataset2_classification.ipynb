{
  "nbformat": 4,
  "nbformat_minor": 0,
  "metadata": {
    "colab": {
      "provenance": [],
      "authorship_tag": "ABX9TyOKtZO16oCuKNznqWqaSrDX"
    },
    "kernelspec": {
      "name": "python3",
      "display_name": "Python 3"
    },
    "language_info": {
      "name": "python"
    }
  },
  "cells": [
    {
      "cell_type": "markdown",
      "metadata": {
        "id": "0YwfdIgt59vy"
      },
      "source": [
        "## **Dataset2 Classification**"
      ]
    },
    {
      "cell_type": "code",
      "execution_count": null,
      "metadata": {
        "id": "e6RpIB9a6Bzh"
      },
      "outputs": [],
      "source": [
        "# importing pandas\n",
        "import numpy as np\n",
        "import pandas as pd\n",
        "from pandas.core.internals.blocks import F"
      ]
    },
    {
      "cell_type": "code",
      "execution_count": null,
      "metadata": {
        "id": "iAi6dpkb6FEL"
      },
      "outputs": [],
      "source": [
        "pip install --upgrade scikit-learn"
      ]
    },
    {
      "cell_type": "code",
      "execution_count": null,
      "metadata": {
        "id": "uSryST9t6GrT"
      },
      "outputs": [],
      "source": [
        "import numpy as np\n",
        "import pandas as pd\n",
        "from datetime import datetime\n",
        "\n",
        "from sklearn.model_selection import train_test_split\n",
        "from sklearn.preprocessing import StandardScaler\n",
        "from sklearn.svm import SVC\n",
        "from sklearn.metrics import confusion_matrix\n",
        "#from sklearn.metrics import plot_confusion_matrix\n",
        "from sklearn import tree\n",
        "from sklearn.metrics import classification_report\n",
        "from sklearn.metrics import accuracy_score\n",
        "from sklearn import neighbors, datasets\n",
        "#from sklearn.inspection import DecisionBoundaryDisplay\n",
        "\n",
        "import sklearn.metrics\n",
        "from sklearn import metrics\n",
        "from sklearn.metrics import f1_score\n",
        "from sklearn.metrics import mean_squared_error\n",
        "\n",
        "import matplotlib.pyplot as plt\n",
        "\n",
        "from sklearn import preprocessing\n",
        "label_encoder = preprocessing.LabelEncoder()"
      ]
    },
    {
      "cell_type": "code",
      "execution_count": null,
      "metadata": {
        "id": "CwtpawCc6Jj-"
      },
      "outputs": [],
      "source": [
        "AttackFree= pd.read_csv('/content/Attack_free_CAN_data.csv')[0:136933]\n",
        "Flooding= pd.read_csv('/content/Flooding_CAN_data.csv')[0:84999]\n",
        "Fuzzy= pd.read_csv('/content/Fuzzy_CAN_data.csv')[0:40999]\n",
        "Malfunction= pd.read_csv('/content/Malfunction_CAN_data.csv')"
      ]
    },
    {
      "cell_type": "code",
      "execution_count": null,
      "metadata": {
        "id": "uzX6lHHW6N7c"
      },
      "outputs": [],
      "source": [
        "#Class1: Attack-Free\n",
        "\n",
        "AttackFree.iloc[:, 1]= label_encoder.fit_transform(AttackFree.iloc[:, 1])\n",
        "AttackFree.iloc[:, 2]= label_encoder.fit_transform(AttackFree.iloc[:, 2])\n",
        "AttackFree.iloc[:, 3]= label_encoder.fit_transform(AttackFree.iloc[:, 3])\n",
        "AttackFree.iloc[:, 4]= label_encoder.fit_transform(AttackFree.iloc[:, 4])\n",
        "AttackFree.iloc[:, 5]= label_encoder.fit_transform(AttackFree.iloc[:, 5])\n",
        "AttackFree.iloc[:, 6]= label_encoder.fit_transform(AttackFree.iloc[:, 6])\n",
        "AttackFree.iloc[:, 7]= label_encoder.fit_transform(AttackFree.iloc[:, 7])\n",
        "AttackFree.iloc[:, 8]= label_encoder.fit_transform(AttackFree.iloc[:, 8])\n",
        "AttackFree.iloc[:, 9]= label_encoder.fit_transform(AttackFree.iloc[:, 9])\n",
        "AttackFree.iloc[:, 10]= label_encoder.fit_transform(AttackFree.iloc[:, 10])\n",
        "AttackFree.iloc[:, 11]= label_encoder.fit_transform(AttackFree.iloc[:, 11])\n",
        "AttackFree.iloc[:, 12]= label_encoder.fit_transform(AttackFree.iloc[:, 12])\n",
        "AttackFree.iloc[:, 13]= label_encoder.fit_transform(AttackFree.iloc[:, 13])\n",
        "AttackFree.iloc[:, 14]= label_encoder.fit_transform(AttackFree.iloc[:, 14])\n",
        "AttackFree.iloc[:, 15]= label_encoder.fit_transform(AttackFree.iloc[:, 15])\n",
        "\n",
        "\n",
        "#Class2: Flooding\n",
        "\n",
        "Flooding.iloc[:, 1]= label_encoder.fit_transform(Flooding.iloc[:, 1])\n",
        "Flooding.iloc[:, 2]= label_encoder.fit_transform(Flooding.iloc[:, 2])\n",
        "Flooding.iloc[:, 3]= label_encoder.fit_transform(Flooding.iloc[:, 3])\n",
        "Flooding.iloc[:, 4]= label_encoder.fit_transform(Flooding.iloc[:, 4])\n",
        "Flooding.iloc[:, 5]= label_encoder.fit_transform(Flooding.iloc[:, 5])\n",
        "Flooding.iloc[:, 6]= label_encoder.fit_transform(Flooding.iloc[:, 6])\n",
        "Flooding.iloc[:, 7]= label_encoder.fit_transform(Flooding.iloc[:, 7])\n",
        "Flooding.iloc[:, 8]= label_encoder.fit_transform(Flooding.iloc[:, 8])\n",
        "Flooding.iloc[:, 9]= label_encoder.fit_transform(Flooding.iloc[:, 9])\n",
        "Flooding.iloc[:, 10]= label_encoder.fit_transform(Flooding.iloc[:, 10])\n",
        "Flooding.iloc[:, 11]= label_encoder.fit_transform(Flooding.iloc[:, 11])\n",
        "Flooding.iloc[:, 12]= label_encoder.fit_transform(Flooding.iloc[:, 12])\n",
        "Flooding.iloc[:, 13]= label_encoder.fit_transform(Flooding.iloc[:, 13])\n",
        "Flooding.iloc[:, 14]= label_encoder.fit_transform(Flooding.iloc[:, 14])\n",
        "Flooding.iloc[:, 15]= label_encoder.fit_transform(Flooding.iloc[:, 15])\n",
        "\n",
        "\n",
        "#Class3: Fuzzy\n",
        "\n",
        "Fuzzy.iloc[:, 1]= label_encoder.fit_transform(Fuzzy.iloc[:, 1])\n",
        "Fuzzy.iloc[:, 2]= label_encoder.fit_transform(Fuzzy.iloc[:, 2])\n",
        "Fuzzy.iloc[:, 3]= label_encoder.fit_transform(Fuzzy.iloc[:, 3])\n",
        "Fuzzy.iloc[:, 4]= label_encoder.fit_transform(Fuzzy.iloc[:, 4])\n",
        "Fuzzy.iloc[:, 5]= label_encoder.fit_transform(Fuzzy.iloc[:, 5])\n",
        "Fuzzy.iloc[:, 6]= label_encoder.fit_transform(Fuzzy.iloc[:, 6])\n",
        "Fuzzy.iloc[:, 7]= label_encoder.fit_transform(Fuzzy.iloc[:, 7])\n",
        "Fuzzy.iloc[:, 8]= label_encoder.fit_transform(Fuzzy.iloc[:, 8])\n",
        "Fuzzy.iloc[:, 9]= label_encoder.fit_transform(Fuzzy.iloc[:, 9])\n",
        "Fuzzy.iloc[:, 10]= label_encoder.fit_transform(Fuzzy.iloc[:, 10])\n",
        "Fuzzy.iloc[:, 11]= label_encoder.fit_transform(Fuzzy.iloc[:, 11])\n",
        "Fuzzy.iloc[:, 12]= label_encoder.fit_transform(Fuzzy.iloc[:, 12])\n",
        "Fuzzy.iloc[:, 13]= label_encoder.fit_transform(Fuzzy.iloc[:, 13])\n",
        "Fuzzy.iloc[:, 14]= label_encoder.fit_transform(Fuzzy.iloc[:, 14])\n",
        "Fuzzy.iloc[:, 15]= label_encoder.fit_transform(Fuzzy.iloc[:, 15])\n",
        "\n",
        "\n",
        "#Class4: Malfunction\n",
        "\n",
        "Malfunction.iloc[:, 1]= label_encoder.fit_transform(Malfunction.iloc[:, 1])\n",
        "Malfunction.iloc[:, 2]= label_encoder.fit_transform(Malfunction.iloc[:, 2])\n",
        "Malfunction.iloc[:, 3]= label_encoder.fit_transform(Malfunction.iloc[:, 3])\n",
        "Malfunction.iloc[:, 4]= label_encoder.fit_transform(Malfunction.iloc[:, 4])\n",
        "Malfunction.iloc[:, 5]= label_encoder.fit_transform(Malfunction.iloc[:, 5])\n",
        "Malfunction.iloc[:, 6]= label_encoder.fit_transform(Malfunction.iloc[:, 6])\n",
        "Malfunction.iloc[:, 7]= label_encoder.fit_transform(Malfunction.iloc[:, 7])\n",
        "Malfunction.iloc[:, 8]= label_encoder.fit_transform(Malfunction.iloc[:, 8])\n",
        "Malfunction.iloc[:, 9]= label_encoder.fit_transform(Malfunction.iloc[:, 9])\n",
        "Malfunction.iloc[:, 10]= label_encoder.fit_transform(Malfunction.iloc[:, 10])\n",
        "Malfunction.iloc[:, 11]= label_encoder.fit_transform(Malfunction.iloc[:, 11])\n",
        "Malfunction.iloc[:, 12]= label_encoder.fit_transform(Malfunction.iloc[:, 12])\n",
        "Malfunction.iloc[:, 13]= label_encoder.fit_transform(Malfunction.iloc[:, 13])\n",
        "Malfunction.iloc[:, 14]= label_encoder.fit_transform(Malfunction.iloc[:, 14])\n",
        "Malfunction.iloc[:, 15]= label_encoder.fit_transform(Malfunction .iloc[:, 15])"
      ]
    },
    {
      "cell_type": "code",
      "execution_count": null,
      "metadata": {
        "id": "MUVICZKS6Qnk"
      },
      "outputs": [],
      "source": [
        "label1 = []\n",
        "for i in range(len(AttackFree)):\n",
        "  label1.append(1)\n",
        "\n",
        "label2 = []\n",
        "for i in range(len(Flooding)):\n",
        "  label2.append(2)\n",
        "\n",
        "label3 = []\n",
        "for i in range(len(Fuzzy)):\n",
        "  label3.append(3)\n",
        "\n",
        "label4 = []\n",
        "for i in range(len(Malfunction)):\n",
        "  label4.append(4)\n",
        "\n",
        "Dataset = np.concatenate((AttackFree, Flooding, Fuzzy, Malfunction))\n",
        "label = np.concatenate((label1, label2, label3, label4))\n",
        "\n",
        "# Splitting the dataset into the Training set and Test set\n",
        "X_Train, X_Test, Y_Train, Y_Test = train_test_split(Dataset, label, test_size = 0.25, random_state = 0)\n",
        "\n",
        "# Feature Scaling\n",
        "sc_X = StandardScaler()\n",
        "X_Train = sc_X.fit_transform(X_Train)\n",
        "X_Test = sc_X.transform(X_Test)"
      ]
    },
    {
      "cell_type": "code",
      "execution_count": null,
      "metadata": {
        "id": "eU-huf5c6Sr8"
      },
      "outputs": [],
      "source": [
        "# SVM classifier\n",
        "#Fitting the classifier into the Training set:SVM Training\n",
        "#kernel = precomputed, rbf,linear,polynomial, poly\n",
        "classifier_svm = SVC(kernel = 'rbf', gamma='scale',random_state = 0, max_iter=-1,  tol=0.0001,degree=3, verbose=False, class_weight=None, C=100.0)\n",
        "\n",
        "start_time_1 = datetime.now()\n",
        "\n",
        "classifier_svm.fit(X_Train, Y_Train)\n",
        "\n",
        "end_time_1 = datetime.now()\n",
        "print('Training Duration: {}'.format(end_time_1 - start_time_1))\n",
        "\n",
        "# SVM Testing\n",
        "start_time_2 = datetime.now()\n",
        "# Predicting the test set results\n",
        "Y_Pred_svm = classifier_svm.predict(X_Test)\n",
        "\n",
        "end_time_2 = datetime.now()\n",
        "print('Testing Duration: {}'.format(end_time_2 - start_time_2))\n"
      ]
    },
    {
      "cell_type": "code",
      "execution_count": null,
      "metadata": {
        "id": "qq4zCLlk6Unf"
      },
      "outputs": [],
      "source": [
        "# Making the Confusion Matrix :SVM\n",
        "cm_svm = confusion_matrix(Y_Test, Y_Pred_svm)\n",
        "cm_svm\n",
        "\n",
        "import seaborn as sn\n",
        "import matplotlib.pyplot as plt\n",
        "\n",
        "\n",
        "\n",
        "font = { 'family': 'sans-serif',\n",
        "        'weight': 'normal',\n",
        "        'size': 14 }\n",
        "\n",
        "plt.rc('font', **font)\n",
        "\n",
        "label = ['AttackFree', 'Flooding', 'Fuzzy', 'Malfunction']\n",
        "\n",
        "\n",
        "df_cm_svm = pd.DataFrame(cm_svm, index = [i for i in label],\n",
        "                  columns = [i for i in label])\n",
        "\n",
        "plt.figure(figsize = (7,5))\n",
        "sn.heatmap(df_cm_svm, annot=True, fmt='.0f', cmap='Blues')\n",
        "plt.ylabel('True Class')\n",
        "plt.xlabel('Predicted Class')\n",
        "plt.show()"
      ]
    },
    {
      "cell_type": "code",
      "execution_count": null,
      "metadata": {
        "id": "RmjFpCcZ6Wmy"
      },
      "outputs": [],
      "source": [
        "#evaluation for SVM\n",
        "\n",
        "\n",
        "print(\"Accuracy:\",metrics.accuracy_score(Y_Test, Y_Pred_svm))\n",
        "print(\"Precision:\",metrics.precision_score(Y_Test, Y_Pred_svm, average='micro'))\n",
        "print(\"Recall:\",metrics.recall_score(Y_Test, Y_Test, average='micro'))\n",
        "print(\"F1_Score:\",metrics.f1_score(Y_Test, Y_Test, average='micro'))\n",
        "print(\"Cohen_Kappa_Score:\",sklearn.metrics.cohen_kappa_score(Y_Test, Y_Pred_svm, labels=None, weights=None, sample_weight=None))\n",
        "#print(\"MSE:\",metrics.mean_squared_error(Y_Test,Y_Pred_svm))"
      ]
    },
    {
      "cell_type": "code",
      "execution_count": null,
      "metadata": {
        "id": "wUtMjTeZ6Yx8"
      },
      "outputs": [],
      "source": [
        "# Individual Clasification- SVM\n",
        "\n",
        "print(classification_report(Y_Test, Y_Pred_svm))"
      ]
    },
    {
      "cell_type": "code",
      "execution_count": null,
      "metadata": {
        "id": "v35BmT2e6a-_"
      },
      "outputs": [],
      "source": [
        "# DT classifier\n",
        "#Fitting the classifier into the Training set:Decision Tree (DT) Training\n",
        "\n",
        "classifier_dt = tree.DecisionTreeClassifier(criterion='gini', splitter='best',random_state=0, max_depth=None)\n",
        "\n",
        "start_time_1 = datetime.now()\n",
        "\n",
        "classifier_dt.fit(X_Train, Y_Train)\n",
        "\n",
        "end_time_1 = datetime.now()\n",
        "print('Training Duration: {}'.format(end_time_1 - start_time_1))\n",
        "\n",
        "\n",
        "#DT Testing\n",
        "start_time_2 = datetime.now()\n",
        "# Predicting the test set results\n",
        "Y_Pred_dt = classifier_dt.predict(X_Test)\n",
        "\n",
        "end_time_2 = datetime.now()\n",
        "print('Testing Duration: {}'.format(end_time_2 - start_time_2))\n",
        "Y_Pred_dt"
      ]
    },
    {
      "cell_type": "code",
      "execution_count": null,
      "metadata": {
        "id": "SdL9ugn76dXH"
      },
      "outputs": [],
      "source": [
        "# Making the Confusion Matrix :DT\n",
        "cm_dt = confusion_matrix(Y_Test, Y_Pred_dt)\n",
        "cm_dt\n",
        "\n",
        "import seaborn as sn\n",
        "import matplotlib.pyplot as plt\n",
        "\n",
        "\n",
        "\n",
        "font = { 'family': 'sans-serif',\n",
        "        'weight': 'normal',\n",
        "        'size': 14 }\n",
        "\n",
        "plt.rc('font', **font)\n",
        "\n",
        "label = ['AttackFree', 'DoS', 'Fuzzy', 'Impersonation']\n",
        "\n",
        "\n",
        "df_cm_dt = pd.DataFrame(cm_dt, index = [i for i in label],\n",
        "                  columns = [i for i in label])\n",
        "\n",
        "plt.figure(figsize = (7,5))\n",
        "sn.heatmap(df_cm_dt, annot=True, fmt='.0f', cmap='Blues')\n",
        "plt.ylabel('True Class')\n",
        "plt.xlabel('Predicted Class')\n",
        "plt.show()"
      ]
    },
    {
      "cell_type": "code",
      "execution_count": null,
      "metadata": {
        "id": "SoYDw1uy6fy7"
      },
      "outputs": [],
      "source": [
        "#evaluation for DT\n",
        "\n",
        "\n",
        "print(\"Accuracy:\",metrics.accuracy_score(Y_Test, Y_Pred_dt))\n",
        "print(\"Precision:\",metrics.precision_score(Y_Test, Y_Pred_dt, average='micro'))\n",
        "print(\"Recall:\",metrics.recall_score(Y_Test, Y_Test, average='micro'))\n",
        "print(\"F1_Score:\",metrics.f1_score(Y_Test, Y_Test, average='micro'))\n",
        "print(\"Cohen_Kappa_Score:\",sklearn.metrics.cohen_kappa_score(Y_Test, Y_Pred_dt, labels=None, weights=None, sample_weight=None))\n",
        "#print(\"MSE:\",metrics.mean_squared_error(Y_Test,Y_Pred_svm))"
      ]
    },
    {
      "cell_type": "code",
      "execution_count": null,
      "metadata": {
        "id": "ZECVHs5k6hut"
      },
      "outputs": [],
      "source": [
        "# Individual Clasification- DT\n",
        "\n",
        "print(classification_report(Y_Test, Y_Pred_dt))"
      ]
    },
    {
      "cell_type": "code",
      "execution_count": null,
      "metadata": {
        "id": "60MaJrAX6jrM"
      },
      "outputs": [],
      "source": [
        "# KNN classifier\n",
        "#Fitting the classifier into the Training set:K-nearest Neighbour Training\n",
        "#(n_neighbors=5, *, weights='uniform', algorithm='auto', leaf_size=30, p=2, metric='minkowski', metric_params=None, n_jobs=None)\n",
        "#metric (Manhattan Distance, minkowski distance, Euclidean Distance, Cosine Distance, Jaccard Distance, Hamming Distance)\n",
        "#n_neighbors = 20\n",
        "classifier_knn = neighbors.KNeighborsClassifier(n_neighbors=5, weights='uniform', algorithm='auto', leaf_size=30, p=2, metric='minkowski', metric_params=None, n_jobs=None)\n",
        "\n",
        "start_time_1 = datetime.now()\n",
        "\n",
        "classifier_knn.fit(X_Train, Y_Train)\n",
        "\n",
        "end_time_1 = datetime.now()\n",
        "print('Training Duration: {}'.format(end_time_1 - start_time_1))\n",
        "\n",
        "# KNN Testing\n",
        "start_time_2 = datetime.now()\n",
        "# Predicting the test set results\n",
        "Y_Pred_knn = classifier_knn.predict(X_Test)\n",
        "\n",
        "end_time_2 = datetime.now()\n",
        "print('Testing Duration: {}'.format(end_time_2 - start_time_2))"
      ]
    },
    {
      "cell_type": "code",
      "execution_count": null,
      "metadata": {
        "id": "Zy1ydtg26mBS"
      },
      "outputs": [],
      "source": [
        "# Making the Confusion Matrix :knn\n",
        "cm_knn = confusion_matrix(Y_Test, Y_Pred_knn)\n",
        "cm_knn\n",
        "\n",
        "import seaborn as sn\n",
        "import matplotlib.pyplot as plt\n",
        "\n",
        "\n",
        "font = { 'family': 'sans-serif',\n",
        "        'weight': 'normal',\n",
        "        'size': 14 }\n",
        "\n",
        "plt.rc('font', **font)\n",
        "\n",
        "label = ['AttackFree', 'DoS', 'Fuzzy', 'Impersonation']\n",
        "\n",
        "\n",
        "df_cm_knn = pd.DataFrame(cm_knn, index = [i for i in label],\n",
        "                  columns = [i for i in label])\n",
        "\n",
        "plt.figure(figsize = (7,5))\n",
        "sn.heatmap(df_cm_knn, annot=True, fmt='.0f', cmap='Blues')\n",
        "plt.ylabel('True Class')\n",
        "plt.xlabel('Predicted Class')\n",
        "plt.show()"
      ]
    },
    {
      "cell_type": "code",
      "execution_count": null,
      "metadata": {
        "id": "VLjNdnQA6n9K"
      },
      "outputs": [],
      "source": [
        "#evaluation for KNN\n",
        "\n",
        "\n",
        "print(\"Accuracy:\",metrics.accuracy_score(Y_Test, Y_Pred_knn))\n",
        "print(\"Precision:\",metrics.precision_score(Y_Test, Y_Pred_knn, average='micro'))\n",
        "print(\"Recall:\",metrics.recall_score(Y_Test, Y_Test, average='micro'))\n",
        "print(\"F1_Score:\",metrics.f1_score(Y_Test, Y_Test, average='micro'))\n",
        "print(\"Cohen_Kappa_Score:\",sklearn.metrics.cohen_kappa_score(Y_Test, Y_Pred_knn, labels=None, weights=None, sample_weight=None))\n",
        "#print(\"MSE:\",metrics.mean_squared_error(Y_Test,Y_Pred_svm))"
      ]
    },
    {
      "cell_type": "code",
      "execution_count": null,
      "metadata": {
        "id": "29ym8FcP6puK"
      },
      "outputs": [],
      "source": [
        "# Individual Clasification- KNN\n",
        "\n",
        "print(classification_report(Y_Test, Y_Pred_knn))"
      ]
    }
  ]
}